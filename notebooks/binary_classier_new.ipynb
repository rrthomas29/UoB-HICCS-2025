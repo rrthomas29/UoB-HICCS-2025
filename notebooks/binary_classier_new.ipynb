{
 "cells": [
  {
   "cell_type": "code",
   "execution_count": 46,
   "id": "440bdb4b",
   "metadata": {},
   "outputs": [],
   "source": [
    "import pandas as pd "
   ]
  },
  {
   "cell_type": "code",
   "execution_count": 238,
   "id": "7ab6d78a",
   "metadata": {},
   "outputs": [],
   "source": [
    "import re\n",
    "import string\n",
    "from nltk.corpus import stopwords\n",
    "from nltk.stem import PorterStemmer\n",
    "\n",
    "category = 'humor' \n",
    "\n",
    "root_df = pd.read_csv(f'/Users/rt853/UoB-HICCS-2025/data/datasets/binary_datasets/brown/{category}_binary.csv').dropna()\n",
    "augmented_df = pd.read_csv(f'/Users/rt853/UoB-HICCS-2025/data/datasets/binary_datasets/augmented/{category}_binary.csv')\n",
    "\n",
    "def preprocess_aug_df(augmented_df):\n",
    "    augmented_df['binary'] = 1\n",
    "    augmented_df['source_text'] = augmented_df['text']\n",
    "    augmented_df = augmented_df.drop(columns='text')\n",
    "    augmented_df = augmented_df.rename(columns={'augmented_text': 'text'})\n",
    "    augmented_df = augmented_df[['text', 'source_text', 'binary', 'category', 'line_id', 'document_id', 'new_document_id']]\n",
    "    return augmented_df\n",
    "\n",
    "def preprocess_text(text):\n",
    "    # Initialize stemmer and stopwords\n",
    "    stemmer = PorterStemmer()\n",
    "    stop_words = set(stopwords.words('english'))\n",
    "\n",
    "    # Convert to lowercase\n",
    "    text = text.lower()\n",
    "    # Remove punctuation\n",
    "    text = text.translate(str.maketrans('', '', string.punctuation))\n",
    "    # Remove numbers\n",
    "    text = re.sub(r'\\d+', '', text)\n",
    "    # Tokenize and remove stopwords\n",
    "    words = text.split()\n",
    "    words = [word for word in words if word not in stop_words]\n",
    "    # Apply stemming\n",
    "    words = [stemmer.stem(word) for word in words]\n",
    "    # Rejoin words into a single string\n",
    "    text = ' '.join(words)\n",
    "    return text\n",
    "\n",
    "augmented_df = preprocess_aug_df(augmented_df)\n",
    "\n",
    "root_df['text'] = root_df['text'].apply(preprocess_text)\n",
    "augmented_df['text'] = augmented_df['text'].apply(preprocess_text)"
   ]
  },
  {
   "cell_type": "code",
   "execution_count": 239,
   "id": "acb7eee5",
   "metadata": {},
   "outputs": [],
   "source": [
    "from sklearn.model_selection import train_test_split\n",
    "\n"
   ]
  },
  {
   "cell_type": "code",
   "execution_count": 240,
   "id": "faf8416a",
   "metadata": {},
   "outputs": [
    {
     "name": "stdout",
     "output_type": "stream",
     "text": [
      "Training set size: \n",
      "binary\n",
      "0    42569\n",
      "1      729\n",
      "Name: count, dtype: int64\n",
      "\n",
      "\n",
      "Training with augmented set size: \n",
      "binary\n",
      "0    42569\n",
      "1     1069\n",
      "Name: count, dtype: int64\n"
     ]
    }
   ],
   "source": [
    "train_df, test_df = train_test_split(root_df, test_size=0.2, random_state=42)\n",
    "train_w_aug = pd.concat([train_df, augmented_df], ignore_index=True)\n",
    "\n",
    "print(f'Training set size: \\n{train_df.binary.value_counts()}')\n",
    "print(f'\\n\\nTraining with augmented set size: \\n{train_w_aug.binary.value_counts()}')"
   ]
  },
  {
   "cell_type": "code",
   "execution_count": 241,
   "id": "34b6e8ea",
   "metadata": {},
   "outputs": [],
   "source": [
    "from sklearn.feature_extraction.text import TfidfVectorizer\n",
    "from sklearn.pipeline import Pipeline\n",
    "from xgboost import XGBClassifier"
   ]
  },
  {
   "cell_type": "code",
   "execution_count": 247,
   "id": "4337c5a7",
   "metadata": {},
   "outputs": [],
   "source": [
    "training_data = train_w_aug "
   ]
  },
  {
   "cell_type": "code",
   "execution_count": 248,
   "id": "7ff09ae7",
   "metadata": {},
   "outputs": [],
   "source": [
    "vectorizer = TfidfVectorizer(\n",
    "    ngram_range=(1, 2), \n",
    "    max_features=10000,\n",
    "    stop_words='english').fit(training_data['text'])"
   ]
  },
  {
   "cell_type": "code",
   "execution_count": 249,
   "id": "f1517873",
   "metadata": {},
   "outputs": [],
   "source": [
    "clf = XGBClassifier(eval_metric='logloss', n_jobs=-1)\n",
    "\n",
    "pipeline = Pipeline([\n",
    "    ('tfidf', vectorizer),\n",
    "    ('clf', clf)\n",
    "])\n",
    "\n",
    "pipeline.fit(training_data['text'], training_data['binary'])\n",
    "predictions = pipeline.predict(test_df['text'])"
   ]
  },
  {
   "cell_type": "code",
   "execution_count": 250,
   "id": "e753792a",
   "metadata": {},
   "outputs": [],
   "source": [
    "from sklearn.metrics import classification_report, accuracy_score"
   ]
  },
  {
   "cell_type": "code",
   "execution_count": 251,
   "id": "33a99665",
   "metadata": {},
   "outputs": [
    {
     "name": "stdout",
     "output_type": "stream",
     "text": [
      "Accuracy: 0.9828175519630485\n",
      "Classification Report: \n",
      "              precision    recall  f1-score   support\n",
      "\n",
      "           0       0.98      1.00      0.99     10623\n",
      "           1       0.90      0.09      0.16       202\n",
      "\n",
      "    accuracy                           0.98     10825\n",
      "   macro avg       0.94      0.54      0.58     10825\n",
      "weighted avg       0.98      0.98      0.98     10825\n",
      "\n"
     ]
    }
   ],
   "source": [
    "report = classification_report(test_df['binary'], predictions, output_dict=False)\n",
    "accuracy = accuracy_score(test_df['binary'], predictions)\n",
    "\n",
    "print(f'Accuracy: {accuracy}')\n",
    "print(f'Classification Report: \\n{report}')"
   ]
  },
  {
   "cell_type": "code",
   "execution_count": 187,
   "id": "ee1c827e",
   "metadata": {},
   "outputs": [
    {
     "data": {
      "text/plain": [
       "binary\n",
       "0    40994\n",
       "1     3699\n",
       "Name: count, dtype: int64"
      ]
     },
     "execution_count": 187,
     "metadata": {},
     "output_type": "execute_result"
    }
   ],
   "source": [
    "train_w_aug.binary.value_counts()"
   ]
  },
  {
   "cell_type": "code",
   "execution_count": null,
   "id": "e4073688",
   "metadata": {},
   "outputs": [],
   "source": []
  }
 ],
 "metadata": {
  "kernelspec": {
   "display_name": ".venv",
   "language": "python",
   "name": "python3"
  },
  "language_info": {
   "codemirror_mode": {
    "name": "ipython",
    "version": 3
   },
   "file_extension": ".py",
   "mimetype": "text/x-python",
   "name": "python",
   "nbconvert_exporter": "python",
   "pygments_lexer": "ipython3",
   "version": "3.12.1"
  }
 },
 "nbformat": 4,
 "nbformat_minor": 5
}
