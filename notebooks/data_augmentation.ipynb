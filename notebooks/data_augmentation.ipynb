{
 "cells": [
  {
   "cell_type": "markdown",
   "metadata": {},
   "source": [
    "# Data Augmentation\n",
    "\n",
    "This notebook shows how we have used data augmentation in an attempt to eliviate the data imbalance. With the help of LLMs and other more typical methods we attempt to manipulate the distribution of labels in an attempt to help the model better generalise. "
   ]
  },
  {
   "cell_type": "code",
   "execution_count": 36,
   "metadata": {},
   "outputs": [],
   "source": [
    "# df = pd.read_csv('/Users/rt853/UoB-HICCS-2025/data/brown_corpus_documents.csv')"
   ]
  },
  {
   "cell_type": "code",
   "execution_count": 37,
   "metadata": {},
   "outputs": [],
   "source": [
    "# import hashlib\n",
    "\n",
    "\n",
    "# dataset = {\n",
    "#     'text' : [],\n",
    "#     'category' : [],\n",
    "#     'document_id' : [],\n",
    "#     'line_id' : []\n",
    "# }\n",
    "\n",
    "# for idx, row in tqdm(df.iterrows(), total=len(df)):\n",
    "#     # Create a unique document ID for each row\n",
    "#     doc_hash = hashlib.md5(str(str(idx) + row['text'] + row['category']).encode()).hexdigest()\n",
    "\n",
    "#     for idx1, line in enumerate(row.text.split('. ')):\n",
    "#         dataset['text'].append(line)\n",
    "#         dataset['category'].append(row['category'])\n",
    "#         dataset['document_id'].append(doc_hash)\n",
    "#         dataset['line_id'].append(idx1)\n",
    "#     # if i\n",
    "# df = pd.DataFrame(dataset)"
   ]
  },
  {
   "cell_type": "code",
   "execution_count": 38,
   "metadata": {},
   "outputs": [],
   "source": [
    "# for classname in ['government', 'hobbies', 'humor', 'science_fiction', 'romance']:\n",
    "#     if classname in df['category'].values:\n",
    "#         pos_d = df[df['category'] == classname]\n",
    "#         neg_d = df[df['category'] != classname]\n",
    "#         pos_d['binary'] = 1\n",
    "#         neg_d['binary'] = 0\n",
    "#         temp_d = pd.concat([pos_d, neg_d])\n",
    "#         temp_d.to_csv('/Users/rt853/UoB-HICCS-2025/data/datasets/binary_datasets/brown/{classname}_binary.csv'.format(classname=classname), index=False)\n",
    "        "
   ]
  },
  {
   "cell_type": "code",
   "execution_count": 39,
   "metadata": {},
   "outputs": [],
   "source": [
    "import sys \n",
    "import pandas as pd \n",
    "from tqdm.auto import tqdm\n",
    "\n",
    "sys.path.append('../src')\n",
    "\n",
    "from data_processing.utils import *\n",
    "from data_processing.data_augmentation import *\n",
    "import os "
   ]
  },
  {
   "cell_type": "code",
   "execution_count": 54,
   "metadata": {},
   "outputs": [
    {
     "data": {
      "text/html": [
       "<div>\n",
       "<style scoped>\n",
       "    .dataframe tbody tr th:only-of-type {\n",
       "        vertical-align: middle;\n",
       "    }\n",
       "\n",
       "    .dataframe tbody tr th {\n",
       "        vertical-align: top;\n",
       "    }\n",
       "\n",
       "    .dataframe thead th {\n",
       "        text-align: right;\n",
       "    }\n",
       "</style>\n",
       "<table border=\"1\" class=\"dataframe\">\n",
       "  <thead>\n",
       "    <tr style=\"text-align: right;\">\n",
       "      <th></th>\n",
       "      <th>text</th>\n",
       "      <th>category</th>\n",
       "      <th>document_id</th>\n",
       "      <th>line_id</th>\n",
       "      <th>binary</th>\n",
       "    </tr>\n",
       "  </thead>\n",
       "  <tbody>\n",
       "    <tr>\n",
       "      <th>0</th>\n",
       "      <td>The controversy of the last few years over whe...</td>\n",
       "      <td>hobbies</td>\n",
       "      <td>caaafa2d5791478d63b751a2bd39d85e</td>\n",
       "      <td>0</td>\n",
       "      <td>1</td>\n",
       "    </tr>\n",
       "    <tr>\n",
       "      <th>1</th>\n",
       "      <td>The architects do not believe that the educati...</td>\n",
       "      <td>hobbies</td>\n",
       "      <td>caaafa2d5791478d63b751a2bd39d85e</td>\n",
       "      <td>1</td>\n",
       "      <td>1</td>\n",
       "    </tr>\n",
       "    <tr>\n",
       "      <th>2</th>\n",
       "      <td>Ordinary politeness may have militated against...</td>\n",
       "      <td>hobbies</td>\n",
       "      <td>caaafa2d5791478d63b751a2bd39d85e</td>\n",
       "      <td>2</td>\n",
       "      <td>1</td>\n",
       "    </tr>\n",
       "    <tr>\n",
       "      <th>3</th>\n",
       "      <td>It is true that most architectural schools hav...</td>\n",
       "      <td>hobbies</td>\n",
       "      <td>caaafa2d5791478d63b751a2bd39d85e</td>\n",
       "      <td>3</td>\n",
       "      <td>1</td>\n",
       "    </tr>\n",
       "    <tr>\n",
       "      <th>4</th>\n",
       "      <td>The element of public danger which enters so l...</td>\n",
       "      <td>hobbies</td>\n",
       "      <td>caaafa2d5791478d63b751a2bd39d85e</td>\n",
       "      <td>4</td>\n",
       "      <td>1</td>\n",
       "    </tr>\n",
       "  </tbody>\n",
       "</table>\n",
       "</div>"
      ],
      "text/plain": [
       "                                                text category  \\\n",
       "0  The controversy of the last few years over whe...  hobbies   \n",
       "1  The architects do not believe that the educati...  hobbies   \n",
       "2  Ordinary politeness may have militated against...  hobbies   \n",
       "3  It is true that most architectural schools hav...  hobbies   \n",
       "4  The element of public danger which enters so l...  hobbies   \n",
       "\n",
       "                        document_id  line_id  binary  \n",
       "0  caaafa2d5791478d63b751a2bd39d85e        0       1  \n",
       "1  caaafa2d5791478d63b751a2bd39d85e        1       1  \n",
       "2  caaafa2d5791478d63b751a2bd39d85e        2       1  \n",
       "3  caaafa2d5791478d63b751a2bd39d85e        3       1  \n",
       "4  caaafa2d5791478d63b751a2bd39d85e        4       1  "
      ]
     },
     "execution_count": 54,
     "metadata": {},
     "output_type": "execute_result"
    }
   ],
   "source": [
    "category = 'hobbies'\n",
    "\n",
    "root_df = pd.read_csv(f'/Users/rt853/UoB-HICCS-2025/data/datasets/binary_datasets/brown/{category}_binary.csv')\n",
    "root_df.head()"
   ]
  },
  {
   "cell_type": "code",
   "execution_count": 55,
   "metadata": {},
   "outputs": [
    {
     "name": "stdout",
     "output_type": "stream",
     "text": [
      "Number of documents:  500\n",
      "Number of sentences:  52664\n"
     ]
    }
   ],
   "source": [
    "num_docs = root_df.document_id.nunique()\n",
    "num_sentences = root_df.text.nunique()\n",
    "\n",
    "print('Number of documents: ', num_docs)\n",
    "print('Number of sentences: ', num_sentences)"
   ]
  },
  {
   "cell_type": "markdown",
   "metadata": {},
   "source": [
    "## Augmentation Using LLM \n",
    "\n",
    "For the next few cells to work you need to have Ollama installed and be running a model vial \n",
    "`ollama run phi3:14b` \n",
    "\n",
    "Instructions on how to install can be found: [here](https://ollama.com/)\n",
    "\n",
    "Once installed it is possible to run different LLMs that can be found on the website "
   ]
  },
  {
   "cell_type": "code",
   "execution_count": 56,
   "metadata": {},
   "outputs": [
    {
     "name": "stdout",
     "output_type": "stream",
     "text": [
      "Number of positive documents:  36\n",
      "Number of positive sentences:  3670\n",
      "50% of positive documents:  18\n"
     ]
    }
   ],
   "source": [
    "prompt = \"\"\"\n",
    "I am going to show you a text. I want you to to rewrite it as similar as possible \n",
    "but with small differences to the words. Consider using synonyms, changing the order as long \n",
    "as the semantic meaning is the same. The purpose is to create training data for a classification task.\n",
    "The text is: \"\n",
    "\"\"\"\n",
    "\n",
    "def prompt_header():\n",
    "    return \"\"\"\n",
    "    I am going to show you a text. I want you to to rewrite it as similar as possible \n",
    "    but with small differences to the words. Consider using synonyms, changing the order as long \n",
    "    as the semantic meaning is the same. The purpose is to create training data for a classification task.\n",
    "    The text is: \"\n",
    "    \"\"\"\n",
    "\n",
    "def prompt_tail(text_length):\n",
    "    return f\"\"\"\n",
    "    \" remember to keep the length of the text similar to the original which is {text_length} words\n",
    "    \"\"\"\n",
    "    \n",
    "model = init_olama('phi3:14b')\n",
    "\n",
    "pos_docs = root_df[root_df['binary'] == 1]\n",
    "\n",
    "print('Number of positive documents: ', pos_docs.document_id.nunique())\n",
    "print('Number of positive sentences: ', pos_docs.text.nunique())\n",
    "print('50% of positive documents: ', int(pos_docs.document_id.nunique() * 0.5))\n",
    "\n",
    "f0perc = int(pos_docs.document_id.nunique() * 0.5)"
   ]
  },
  {
   "cell_type": "markdown",
   "metadata": {},
   "source": [
    "## Augmenting the Brown Corpus \n",
    "\n",
    "I think it would be best to augment full documents as not all sentences could be indicative of the whole category. In this case I will augment up to 50% of the total positive documents."
   ]
  },
  {
   "cell_type": "code",
   "execution_count": 57,
   "metadata": {},
   "outputs": [
    {
     "data": {
      "application/vnd.jupyter.widget-view+json": {
       "model_id": "3cdf06b80d614f58aa5d1161b4985f00",
       "version_major": 2,
       "version_minor": 0
      },
      "text/plain": [
       "  0%|          | 0/18 [00:00<?, ?it/s]"
      ]
     },
     "metadata": {},
     "output_type": "display_data"
    },
    {
     "data": {
      "application/vnd.jupyter.widget-view+json": {
       "model_id": "e40fa4a11f6a4511b6e48765a762fa60",
       "version_major": 2,
       "version_minor": 0
      },
      "text/plain": [
       "  0%|          | 0/87 [00:00<?, ?it/s]"
      ]
     },
     "metadata": {},
     "output_type": "display_data"
    },
    {
     "name": "stdout",
     "output_type": "stream",
     "text": [
      "Number of lines processed:  5\n",
      "Number of lines processed:  10\n",
      "Number of lines processed:  15\n",
      "Number of lines processed:  20\n",
      "Number of lines processed:  25\n",
      "Number of lines processed:  30\n",
      "Number of lines processed:  35\n",
      "Number of lines processed:  40\n",
      "Number of lines processed:  45\n",
      "Number of lines processed:  50\n",
      "Number of lines processed:  55\n",
      "Number of lines processed:  60\n",
      "Number of lines processed:  65\n",
      "Number of lines processed:  70\n",
      "Number of lines processed:  75\n",
      "Number of lines processed:  80\n",
      "Number of lines processed:  85\n"
     ]
    },
    {
     "data": {
      "application/vnd.jupyter.widget-view+json": {
       "model_id": "db57c3e72418442cb1adfc5ee2e42eb5",
       "version_major": 2,
       "version_minor": 0
      },
      "text/plain": [
       "  0%|          | 0/84 [00:00<?, ?it/s]"
      ]
     },
     "metadata": {},
     "output_type": "display_data"
    },
    {
     "name": "stdout",
     "output_type": "stream",
     "text": [
      "Number of lines processed:  90\n",
      "Number of lines processed:  95\n",
      "Number of lines processed:  100\n",
      "Number of lines processed:  105\n",
      "Number of lines processed:  110\n",
      "Number of lines processed:  115\n",
      "Number of lines processed:  120\n",
      "Number of lines processed:  125\n",
      "Number of lines processed:  130\n",
      "Number of lines processed:  135\n",
      "Number of lines processed:  140\n",
      "Number of lines processed:  145\n",
      "Number of lines processed:  150\n",
      "Number of lines processed:  155\n",
      "Number of lines processed:  160\n",
      "Number of lines processed:  165\n",
      "Number of lines processed:  170\n"
     ]
    },
    {
     "data": {
      "application/vnd.jupyter.widget-view+json": {
       "model_id": "e8ac1127c9c148f4a6866eee58af1634",
       "version_major": 2,
       "version_minor": 0
      },
      "text/plain": [
       "  0%|          | 0/90 [00:00<?, ?it/s]"
      ]
     },
     "metadata": {},
     "output_type": "display_data"
    },
    {
     "name": "stdout",
     "output_type": "stream",
     "text": [
      "Number of lines processed:  175\n",
      "Number of lines processed:  180\n",
      "Number of lines processed:  185\n",
      "Number of lines processed:  190\n",
      "Number of lines processed:  195\n",
      "Number of lines processed:  200\n",
      "Number of lines processed:  205\n",
      "Number of lines processed:  210\n",
      "Number of lines processed:  215\n",
      "Number of lines processed:  220\n",
      "Number of lines processed:  225\n",
      "Number of lines processed:  230\n",
      "Number of lines processed:  235\n",
      "Number of lines processed:  240\n",
      "Number of lines processed:  245\n",
      "Number of lines processed:  250\n",
      "Number of lines processed:  255\n"
     ]
    },
    {
     "data": {
      "application/vnd.jupyter.widget-view+json": {
       "model_id": "6144f3d277014f8ea250ce8d8a922838",
       "version_major": 2,
       "version_minor": 0
      },
      "text/plain": [
       "  0%|          | 0/138 [00:00<?, ?it/s]"
      ]
     },
     "metadata": {},
     "output_type": "display_data"
    },
    {
     "name": "stdout",
     "output_type": "stream",
     "text": [
      "Number of lines processed:  260\n",
      "Number of lines processed:  265\n",
      "Number of lines processed:  270\n",
      "Number of lines processed:  275\n",
      "Number of lines processed:  280\n",
      "Number of lines processed:  285\n",
      "Number of lines processed:  290\n",
      "Number of lines processed:  295\n",
      "Number of lines processed:  300\n",
      "Number of lines processed:  305\n",
      "Number of lines processed:  310\n",
      "Number of lines processed:  315\n",
      "Number of lines processed:  320\n",
      "Number of lines processed:  325\n",
      "Number of lines processed:  330\n",
      "Number of lines processed:  335\n",
      "Number of lines processed:  340\n",
      "Number of lines processed:  345\n",
      "Number of lines processed:  350\n",
      "Number of lines processed:  355\n",
      "Number of lines processed:  360\n",
      "Number of lines processed:  365\n",
      "Number of lines processed:  370\n",
      "Number of lines processed:  375\n",
      "Number of lines processed:  380\n",
      "Number of lines processed:  385\n",
      "Number of lines processed:  390\n"
     ]
    },
    {
     "data": {
      "application/vnd.jupyter.widget-view+json": {
       "model_id": "44e9924acf1044da8299271365bdf0e4",
       "version_major": 2,
       "version_minor": 0
      },
      "text/plain": [
       "  0%|          | 0/92 [00:00<?, ?it/s]"
      ]
     },
     "metadata": {},
     "output_type": "display_data"
    },
    {
     "name": "stdout",
     "output_type": "stream",
     "text": [
      "Number of lines processed:  395\n",
      "Number of lines processed:  400\n",
      "Number of lines processed:  405\n",
      "Number of lines processed:  410\n",
      "Number of lines processed:  415\n",
      "Number of lines processed:  420\n",
      "Number of lines processed:  425\n",
      "Number of lines processed:  430\n",
      "Number of lines processed:  435\n",
      "Number of lines processed:  440\n",
      "Number of lines processed:  445\n",
      "Number of lines processed:  450\n",
      "Number of lines processed:  455\n",
      "Number of lines processed:  460\n",
      "Number of lines processed:  465\n",
      "Number of lines processed:  470\n",
      "Number of lines processed:  475\n",
      "Number of lines processed:  480\n",
      "Number of lines processed:  485\n"
     ]
    },
    {
     "data": {
      "application/vnd.jupyter.widget-view+json": {
       "model_id": "91a0f246407d4614a8af2fbe85ebbd55",
       "version_major": 2,
       "version_minor": 0
      },
      "text/plain": [
       "  0%|          | 0/119 [00:00<?, ?it/s]"
      ]
     },
     "metadata": {},
     "output_type": "display_data"
    },
    {
     "name": "stdout",
     "output_type": "stream",
     "text": [
      "Number of lines processed:  490\n",
      "Number of lines processed:  495\n",
      "Number of lines processed:  500\n",
      "Number of lines processed:  505\n",
      "Number of lines processed:  510\n",
      "Number of lines processed:  515\n",
      "Number of lines processed:  520\n",
      "Number of lines processed:  525\n",
      "Number of lines processed:  530\n",
      "Number of lines processed:  535\n",
      "Number of lines processed:  540\n",
      "Number of lines processed:  545\n",
      "Number of lines processed:  550\n",
      "Number of lines processed:  555\n",
      "Number of lines processed:  560\n",
      "Number of lines processed:  565\n",
      "Number of lines processed:  570\n",
      "Number of lines processed:  575\n",
      "Number of lines processed:  580\n",
      "Number of lines processed:  585\n",
      "Number of lines processed:  590\n",
      "Number of lines processed:  595\n",
      "Number of lines processed:  600\n",
      "Number of lines processed:  605\n"
     ]
    },
    {
     "data": {
      "application/vnd.jupyter.widget-view+json": {
       "model_id": "1efd2b9f2cc6457eb832e63cad8868b9",
       "version_major": 2,
       "version_minor": 0
      },
      "text/plain": [
       "  0%|          | 0/155 [00:00<?, ?it/s]"
      ]
     },
     "metadata": {},
     "output_type": "display_data"
    },
    {
     "name": "stdout",
     "output_type": "stream",
     "text": [
      "Number of lines processed:  610\n",
      "Number of lines processed:  615\n",
      "Number of lines processed:  620\n",
      "Number of lines processed:  625\n",
      "Number of lines processed:  630\n",
      "Number of lines processed:  635\n",
      "Number of lines processed:  640\n",
      "Number of lines processed:  645\n",
      "Number of lines processed:  650\n",
      "Number of lines processed:  655\n",
      "Number of lines processed:  660\n",
      "Number of lines processed:  665\n",
      "Number of lines processed:  670\n",
      "Number of lines processed:  675\n",
      "Number of lines processed:  680\n",
      "Number of lines processed:  685\n",
      "Number of lines processed:  690\n",
      "Number of lines processed:  695\n",
      "Number of lines processed:  700\n",
      "Number of lines processed:  705\n",
      "Number of lines processed:  710\n",
      "Number of lines processed:  715\n",
      "Number of lines processed:  720\n",
      "Number of lines processed:  725\n",
      "Number of lines processed:  730\n",
      "Number of lines processed:  735\n",
      "Number of lines processed:  740\n",
      "Number of lines processed:  745\n",
      "Number of lines processed:  750\n",
      "Number of lines processed:  755\n",
      "Number of lines processed:  760\n"
     ]
    },
    {
     "data": {
      "application/vnd.jupyter.widget-view+json": {
       "model_id": "2ae5ec30ea284dd2ad6b29e73e86d540",
       "version_major": 2,
       "version_minor": 0
      },
      "text/plain": [
       "  0%|          | 0/109 [00:00<?, ?it/s]"
      ]
     },
     "metadata": {},
     "output_type": "display_data"
    },
    {
     "name": "stdout",
     "output_type": "stream",
     "text": [
      "Number of lines processed:  765\n",
      "Number of lines processed:  770\n",
      "Number of lines processed:  775\n",
      "Number of lines processed:  780\n",
      "Number of lines processed:  785\n",
      "Number of lines processed:  790\n",
      "Number of lines processed:  795\n",
      "Number of lines processed:  800\n",
      "Number of lines processed:  805\n",
      "Number of lines processed:  810\n",
      "Number of lines processed:  815\n",
      "Number of lines processed:  820\n",
      "Number of lines processed:  825\n",
      "Number of lines processed:  830\n",
      "Number of lines processed:  835\n",
      "Number of lines processed:  840\n",
      "Number of lines processed:  845\n",
      "Number of lines processed:  850\n",
      "Number of lines processed:  855\n",
      "Number of lines processed:  860\n",
      "Number of lines processed:  865\n"
     ]
    },
    {
     "data": {
      "application/vnd.jupyter.widget-view+json": {
       "model_id": "a4d8fcfcd70147ada28007f21f402919",
       "version_major": 2,
       "version_minor": 0
      },
      "text/plain": [
       "  0%|          | 0/114 [00:00<?, ?it/s]"
      ]
     },
     "metadata": {},
     "output_type": "display_data"
    },
    {
     "name": "stdout",
     "output_type": "stream",
     "text": [
      "Number of lines processed:  870\n",
      "Number of lines processed:  875\n",
      "Number of lines processed:  880\n",
      "Number of lines processed:  885\n",
      "Number of lines processed:  890\n",
      "Number of lines processed:  895\n",
      "Number of lines processed:  900\n",
      "Number of lines processed:  905\n",
      "Number of lines processed:  910\n",
      "Number of lines processed:  915\n",
      "Number of lines processed:  920\n",
      "Number of lines processed:  925\n",
      "Number of lines processed:  930\n",
      "Number of lines processed:  935\n",
      "Number of lines processed:  940\n",
      "Number of lines processed:  945\n",
      "Number of lines processed:  950\n",
      "Number of lines processed:  955\n",
      "Number of lines processed:  960\n",
      "Number of lines processed:  965\n",
      "Number of lines processed:  970\n",
      "Number of lines processed:  975\n",
      "Number of lines processed:  980\n"
     ]
    },
    {
     "data": {
      "application/vnd.jupyter.widget-view+json": {
       "model_id": "93836b518709424e89e41faf69dc9724",
       "version_major": 2,
       "version_minor": 0
      },
      "text/plain": [
       "  0%|          | 0/93 [00:00<?, ?it/s]"
      ]
     },
     "metadata": {},
     "output_type": "display_data"
    },
    {
     "name": "stdout",
     "output_type": "stream",
     "text": [
      "Number of lines processed:  985\n",
      "Number of lines processed:  990\n",
      "Number of lines processed:  995\n",
      "Number of lines processed:  1000\n",
      "Number of lines processed:  1005\n",
      "Number of lines processed:  1010\n",
      "Number of lines processed:  1015\n",
      "Number of lines processed:  1020\n",
      "Number of lines processed:  1025\n",
      "Number of lines processed:  1030\n",
      "Number of lines processed:  1035\n",
      "Number of lines processed:  1040\n",
      "Number of lines processed:  1045\n",
      "Number of lines processed:  1050\n",
      "Number of lines processed:  1055\n",
      "Number of lines processed:  1060\n",
      "Number of lines processed:  1065\n",
      "Number of lines processed:  1070\n",
      "Number of lines processed:  1075\n"
     ]
    },
    {
     "data": {
      "application/vnd.jupyter.widget-view+json": {
       "model_id": "c25a19ad0d5749c5802926b85be606a2",
       "version_major": 2,
       "version_minor": 0
      },
      "text/plain": [
       "  0%|          | 0/88 [00:00<?, ?it/s]"
      ]
     },
     "metadata": {},
     "output_type": "display_data"
    },
    {
     "name": "stdout",
     "output_type": "stream",
     "text": [
      "Number of lines processed:  1080\n",
      "Number of lines processed:  1085\n",
      "Number of lines processed:  1090\n",
      "Number of lines processed:  1095\n",
      "Number of lines processed:  1100\n",
      "Number of lines processed:  1105\n",
      "Number of lines processed:  1110\n",
      "Number of lines processed:  1115\n",
      "Number of lines processed:  1120\n",
      "Number of lines processed:  1125\n",
      "Number of lines processed:  1130\n",
      "Number of lines processed:  1135\n",
      "Number of lines processed:  1140\n",
      "Number of lines processed:  1145\n",
      "Number of lines processed:  1150\n",
      "Number of lines processed:  1155\n",
      "Number of lines processed:  1160\n"
     ]
    },
    {
     "data": {
      "application/vnd.jupyter.widget-view+json": {
       "model_id": "da8c0d94aec843df9b2ed9787d4e7cf6",
       "version_major": 2,
       "version_minor": 0
      },
      "text/plain": [
       "  0%|          | 0/74 [00:00<?, ?it/s]"
      ]
     },
     "metadata": {},
     "output_type": "display_data"
    },
    {
     "name": "stdout",
     "output_type": "stream",
     "text": [
      "Number of lines processed:  1165\n",
      "Number of lines processed:  1170\n",
      "Number of lines processed:  1175\n",
      "Number of lines processed:  1180\n",
      "Number of lines processed:  1185\n",
      "Number of lines processed:  1190\n",
      "Number of lines processed:  1195\n",
      "Number of lines processed:  1200\n",
      "Number of lines processed:  1205\n",
      "Number of lines processed:  1210\n",
      "Number of lines processed:  1215\n",
      "Number of lines processed:  1220\n",
      "Number of lines processed:  1225\n",
      "Number of lines processed:  1230\n",
      "Number of lines processed:  1235\n"
     ]
    },
    {
     "data": {
      "application/vnd.jupyter.widget-view+json": {
       "model_id": "92f143261336406584a7c977188e24c8",
       "version_major": 2,
       "version_minor": 0
      },
      "text/plain": [
       "  0%|          | 0/109 [00:00<?, ?it/s]"
      ]
     },
     "metadata": {},
     "output_type": "display_data"
    },
    {
     "name": "stdout",
     "output_type": "stream",
     "text": [
      "Number of lines processed:  1240\n",
      "Number of lines processed:  1245\n",
      "Number of lines processed:  1250\n",
      "Number of lines processed:  1255\n",
      "Number of lines processed:  1260\n",
      "Number of lines processed:  1265\n",
      "Number of lines processed:  1270\n",
      "Number of lines processed:  1275\n",
      "Number of lines processed:  1280\n",
      "Number of lines processed:  1285\n",
      "Number of lines processed:  1290\n",
      "Number of lines processed:  1295\n",
      "Number of lines processed:  1300\n",
      "Number of lines processed:  1305\n",
      "Number of lines processed:  1310\n",
      "Number of lines processed:  1315\n",
      "Number of lines processed:  1320\n",
      "Number of lines processed:  1325\n",
      "Number of lines processed:  1330\n",
      "Number of lines processed:  1335\n",
      "Number of lines processed:  1340\n",
      "Number of lines processed:  1345\n"
     ]
    },
    {
     "data": {
      "application/vnd.jupyter.widget-view+json": {
       "model_id": "c07a75e76302470caaa30fee568762e4",
       "version_major": 2,
       "version_minor": 0
      },
      "text/plain": [
       "  0%|          | 0/98 [00:00<?, ?it/s]"
      ]
     },
     "metadata": {},
     "output_type": "display_data"
    },
    {
     "name": "stdout",
     "output_type": "stream",
     "text": [
      "Number of lines processed:  1350\n",
      "Number of lines processed:  1355\n",
      "Number of lines processed:  1360\n",
      "Number of lines processed:  1365\n",
      "Number of lines processed:  1370\n",
      "Number of lines processed:  1375\n",
      "Number of lines processed:  1380\n",
      "Number of lines processed:  1385\n",
      "Number of lines processed:  1390\n",
      "Number of lines processed:  1395\n",
      "Number of lines processed:  1400\n",
      "Number of lines processed:  1405\n",
      "Number of lines processed:  1410\n",
      "Number of lines processed:  1415\n",
      "Number of lines processed:  1420\n",
      "Number of lines processed:  1425\n",
      "Number of lines processed:  1430\n",
      "Number of lines processed:  1435\n",
      "Number of lines processed:  1440\n"
     ]
    },
    {
     "data": {
      "application/vnd.jupyter.widget-view+json": {
       "model_id": "08645475fd59499ea211bbf02d25555a",
       "version_major": 2,
       "version_minor": 0
      },
      "text/plain": [
       "  0%|          | 0/87 [00:00<?, ?it/s]"
      ]
     },
     "metadata": {},
     "output_type": "display_data"
    },
    {
     "name": "stdout",
     "output_type": "stream",
     "text": [
      "Number of lines processed:  1445\n",
      "Number of lines processed:  1450\n",
      "Number of lines processed:  1455\n",
      "Number of lines processed:  1460\n",
      "Number of lines processed:  1465\n",
      "Number of lines processed:  1470\n",
      "Number of lines processed:  1475\n",
      "Number of lines processed:  1480\n",
      "Number of lines processed:  1485\n",
      "Number of lines processed:  1490\n",
      "Number of lines processed:  1495\n",
      "Number of lines processed:  1500\n",
      "Number of lines processed:  1505\n",
      "Number of lines processed:  1510\n",
      "Number of lines processed:  1515\n",
      "Number of lines processed:  1520\n",
      "Number of lines processed:  1525\n",
      "Number of lines processed:  1530\n"
     ]
    },
    {
     "data": {
      "application/vnd.jupyter.widget-view+json": {
       "model_id": "1ab48381a9a4433e8a4c8a4a3cd6a8a1",
       "version_major": 2,
       "version_minor": 0
      },
      "text/plain": [
       "  0%|          | 0/105 [00:00<?, ?it/s]"
      ]
     },
     "metadata": {},
     "output_type": "display_data"
    },
    {
     "name": "stdout",
     "output_type": "stream",
     "text": [
      "Number of lines processed:  1535\n",
      "Number of lines processed:  1540\n",
      "Number of lines processed:  1545\n",
      "Number of lines processed:  1550\n",
      "Number of lines processed:  1555\n",
      "Number of lines processed:  1560\n",
      "Number of lines processed:  1565\n",
      "Number of lines processed:  1570\n",
      "Number of lines processed:  1575\n",
      "Number of lines processed:  1580\n",
      "Number of lines processed:  1585\n",
      "Number of lines processed:  1590\n",
      "Number of lines processed:  1595\n",
      "Number of lines processed:  1600\n",
      "Number of lines processed:  1605\n",
      "Number of lines processed:  1610\n",
      "Number of lines processed:  1615\n",
      "Number of lines processed:  1620\n",
      "Number of lines processed:  1625\n",
      "Number of lines processed:  1630\n",
      "Number of lines processed:  1635\n"
     ]
    },
    {
     "data": {
      "application/vnd.jupyter.widget-view+json": {
       "model_id": "aef6ee6530f948d8a7e395107765c156",
       "version_major": 2,
       "version_minor": 0
      },
      "text/plain": [
       "  0%|          | 0/143 [00:00<?, ?it/s]"
      ]
     },
     "metadata": {},
     "output_type": "display_data"
    },
    {
     "name": "stdout",
     "output_type": "stream",
     "text": [
      "Number of lines processed:  1640\n",
      "Number of lines processed:  1645\n",
      "Number of lines processed:  1650\n",
      "Number of lines processed:  1655\n",
      "Number of lines processed:  1660\n",
      "Number of lines processed:  1665\n",
      "Number of lines processed:  1670\n",
      "Number of lines processed:  1675\n",
      "Number of lines processed:  1680\n",
      "Number of lines processed:  1685\n",
      "Number of lines processed:  1690\n",
      "Number of lines processed:  1695\n",
      "Number of lines processed:  1700\n",
      "Number of lines processed:  1705\n",
      "Number of lines processed:  1710\n",
      "Number of lines processed:  1715\n",
      "Number of lines processed:  1720\n",
      "Number of lines processed:  1725\n",
      "Number of lines processed:  1730\n",
      "Number of lines processed:  1735\n",
      "Number of lines processed:  1740\n",
      "Number of lines processed:  1745\n",
      "Number of lines processed:  1750\n",
      "Number of lines processed:  1755\n",
      "Number of lines processed:  1760\n",
      "Number of lines processed:  1765\n",
      "Number of lines processed:  1770\n",
      "Number of lines processed:  1775\n"
     ]
    },
    {
     "data": {
      "application/vnd.jupyter.widget-view+json": {
       "model_id": "0e45b0773d9344b0a15c89c9c782db15",
       "version_major": 2,
       "version_minor": 0
      },
      "text/plain": [
       "  0%|          | 0/121 [00:00<?, ?it/s]"
      ]
     },
     "metadata": {},
     "output_type": "display_data"
    },
    {
     "name": "stdout",
     "output_type": "stream",
     "text": [
      "Number of lines processed:  1780\n",
      "Number of lines processed:  1785\n",
      "Number of lines processed:  1790\n",
      "Number of lines processed:  1795\n",
      "Number of lines processed:  1800\n",
      "Number of lines processed:  1805\n",
      "Number of lines processed:  1810\n",
      "Number of lines processed:  1815\n",
      "Number of lines processed:  1820\n",
      "Number of lines processed:  1825\n",
      "Number of lines processed:  1830\n",
      "Number of lines processed:  1835\n",
      "Number of lines processed:  1840\n",
      "Number of lines processed:  1845\n",
      "Number of lines processed:  1850\n",
      "Number of lines processed:  1855\n",
      "Number of lines processed:  1860\n",
      "Number of lines processed:  1865\n",
      "Number of lines processed:  1870\n",
      "Number of lines processed:  1875\n",
      "Number of lines processed:  1880\n",
      "Number of lines processed:  1885\n",
      "Number of lines processed:  1890\n",
      "Number of lines processed:  1895\n"
     ]
    }
   ],
   "source": [
    "import random\n",
    "\n",
    "# Get unique document IDs\n",
    "unique_docs = pos_docs.document_id.unique()\n",
    "random_docs = random.sample(list(unique_docs), f0perc)\n",
    "\n",
    "\n",
    "aug_path = f'/Users/rt853/UoB-HICCS-2025/data/datasets/binary_datasets/augmented/{category}_binary.csv'\n",
    "\n",
    "if os.path.exists(aug_path):\n",
    "    augmented_df = pd.read_csv(aug_path)\n",
    "else:\n",
    "    augmented_df = pd.DataFrame(columns=['text', 'category', 'document_id', 'line_id', 'augmented_text'])\n",
    "\n",
    "aug_df = {\n",
    "    'text' : [],\n",
    "    'category' : [],\n",
    "    'document_id' : [],\n",
    "    'new_document_id' : [],\n",
    "    'line_id' : [],\n",
    "    'augmented_text' : [],\n",
    "}\n",
    "\n",
    "line_counter = 0\n",
    "for doc_id in tqdm(random_docs):\n",
    "    doc_df = pos_docs[pos_docs['document_id'] == doc_id]\n",
    "    for idx, row in tqdm(doc_df.iterrows(), total=len(doc_df)):\n",
    "        if row['text'] in augmented_df.text.values:\n",
    "            print('Already exists: ', row['text'])\n",
    "            continue\n",
    "        try:\n",
    "            aug_text = model.invoke(prompt_header() + row['text'] + prompt_tail(len(row['text'].split())))\n",
    "        except:\n",
    "            continue \n",
    "        aug_df['text'].append(row['text'])\n",
    "        aug_df['document_id'].append(row['document_id'])\n",
    "        aug_df['category'].append(row['category'])\n",
    "        aug_df['line_id'].append(row['line_id'])\n",
    "        aug_df['augmented_text'].append(aug_text)\n",
    "        aug_df['new_document_id'].append(row['document_id'] + '_aug')\n",
    "        line_counter += 1\n",
    "        \n",
    "        if line_counter % 5 == 0:\n",
    "            print('Number of lines processed: ', line_counter)\n",
    "            pd.DataFrame(aug_df).to_csv(aug_path, index=False)\n",
    "            \n",
    "            \n",
    "    \n"
   ]
  },
  {
   "cell_type": "code",
   "execution_count": 50,
   "metadata": {},
   "outputs": [
    {
     "data": {
      "text/plain": [
       "True"
      ]
     },
     "execution_count": 50,
     "metadata": {},
     "output_type": "execute_result"
    }
   ],
   "source": [
    "import os \n",
    "\n",
    "os.path.exists('/Users/rt853/UoB-HICCS-2025/data/datasets/binary_datasets/augmented')"
   ]
  },
  {
   "cell_type": "code",
   "execution_count": 14,
   "metadata": {},
   "outputs": [],
   "source": [
    "from data_processing.data_augmentation import *"
   ]
  },
  {
   "cell_type": "markdown",
   "metadata": {},
   "source": [
    "The below code can be run to generate a dataframe of augmented samples. You should manually inspect the data as there can be reduntant langauge such as the model telling you its thought process or other random annecdotes. We recoomend using a post processing script."
   ]
  },
  {
   "cell_type": "code",
   "execution_count": null,
   "metadata": {},
   "outputs": [
    {
     "data": {
      "text/html": [
       "<div>\n",
       "<style scoped>\n",
       "    .dataframe tbody tr th:only-of-type {\n",
       "        vertical-align: middle;\n",
       "    }\n",
       "\n",
       "    .dataframe tbody tr th {\n",
       "        vertical-align: top;\n",
       "    }\n",
       "\n",
       "    .dataframe thead th {\n",
       "        text-align: right;\n",
       "    }\n",
       "</style>\n",
       "<table border=\"1\" class=\"dataframe\">\n",
       "  <thead>\n",
       "    <tr style=\"text-align: right;\">\n",
       "      <th></th>\n",
       "      <th>class</th>\n",
       "    </tr>\n",
       "  </thead>\n",
       "  <tbody>\n",
       "    <tr>\n",
       "      <th>count</th>\n",
       "      <td>660.0</td>\n",
       "    </tr>\n",
       "    <tr>\n",
       "      <th>mean</th>\n",
       "      <td>1.0</td>\n",
       "    </tr>\n",
       "    <tr>\n",
       "      <th>std</th>\n",
       "      <td>0.0</td>\n",
       "    </tr>\n",
       "    <tr>\n",
       "      <th>min</th>\n",
       "      <td>1.0</td>\n",
       "    </tr>\n",
       "    <tr>\n",
       "      <th>25%</th>\n",
       "      <td>1.0</td>\n",
       "    </tr>\n",
       "    <tr>\n",
       "      <th>50%</th>\n",
       "      <td>1.0</td>\n",
       "    </tr>\n",
       "    <tr>\n",
       "      <th>75%</th>\n",
       "      <td>1.0</td>\n",
       "    </tr>\n",
       "    <tr>\n",
       "      <th>max</th>\n",
       "      <td>1.0</td>\n",
       "    </tr>\n",
       "  </tbody>\n",
       "</table>\n",
       "</div>"
      ],
      "text/plain": [
       "       class\n",
       "count  660.0\n",
       "mean     1.0\n",
       "std      0.0\n",
       "min      1.0\n",
       "25%      1.0\n",
       "50%      1.0\n",
       "75%      1.0\n",
       "max      1.0"
      ]
     },
     "execution_count": 45,
     "metadata": {},
     "output_type": "execute_result"
    }
   ],
   "source": [
    "aug_data = pd.read_csv('/Users/rt853/UoB-HICCS-2025/data/datasets/binary_datasets/augmented_government.csv')\n"
   ]
  },
  {
   "cell_type": "code",
   "execution_count": 28,
   "metadata": {},
   "outputs": [],
   "source": [
    "input_sample = root_df[root_df[class_col]==positive].sample(1).iloc[0][text_col]"
   ]
  },
  {
   "cell_type": "code",
   "execution_count": 34,
   "metadata": {},
   "outputs": [
    {
     "data": {
      "text/plain": [
       "'FREE camera phones with linerental from 4.49/month with 750 cross ntwk mins. 1/2 price txt bundle deals also avble. Call 08001950382 or call2optout/J MF'"
      ]
     },
     "execution_count": 34,
     "metadata": {},
     "output_type": "execute_result"
    }
   ],
   "source": [
    "input_sample"
   ]
  },
  {
   "cell_type": "code",
   "execution_count": 29,
   "metadata": {},
   "outputs": [],
   "source": [
    "prompt = f\"\"\"I am showing you a spam message, can you rewrite it as similar as possible bearing in mind \n",
    "the purpose is to generate training data for a spam detection model: \"{input_sample}\".\"\"\""
   ]
  },
  {
   "cell_type": "code",
   "execution_count": 7,
   "metadata": {},
   "outputs": [],
   "source": [
    "augmented_d.to_csv('/Users/rt853/UoB-persuasion-detection/data/processed/rapoport_augmented_data_final.csv')"
   ]
  },
  {
   "cell_type": "code",
   "execution_count": 14,
   "metadata": {},
   "outputs": [
    {
     "name": "stderr",
     "output_type": "stream",
     "text": [
      "Some weights of RobertaModel were not initialized from the model checkpoint at roberta-base and are newly initialized: ['roberta.pooler.dense.bias', 'roberta.pooler.dense.weight']\n",
      "You should probably TRAIN this model on a down-stream task to be able to use it for predictions and inference.\n"
     ]
    }
   ],
   "source": [
    "from transformers import RobertaTokenizer, RobertaModel\n",
    "import torch\n",
    "\n",
    "# Load RoBERTa tokenizer and model\n",
    "tokenizer = RobertaTokenizer.from_pretrained('roberta-base')\n",
    "model = RobertaModel.from_pretrained('roberta-base')\n",
    "\n",
    "# Encode the text column\n",
    "def encode_text(texts):\n",
    "    inputs = tokenizer(texts, return_tensors='pt', padding=True, truncation=True, max_length=512)\n",
    "    with torch.no_grad():\n",
    "        outputs = model(**inputs)\n",
    "    return outputs.last_hidden_state.mean(dim=1)  # Mean pooling of token embeddings\n",
    "\n",
    "# Apply encoding to the text column\n",
    "\n"
   ]
  },
  {
   "cell_type": "code",
   "execution_count": 9,
   "metadata": {},
   "outputs": [
    {
     "name": "stdout",
     "output_type": "stream",
     "text": [
      "\"Building training data can indeed pose a challenge; not everyone realizes its importance or shows interest.\"\n",
      "persuader: it is actually kind of hard. many do not see the need or care.\n"
     ]
    }
   ],
   "source": [
    "print(augmented_d.text[0])\n",
    "print(augmented_d.root_text[0])"
   ]
  },
  {
   "cell_type": "code",
   "execution_count": 10,
   "metadata": {},
   "outputs": [],
   "source": [
    "\n",
    "encoded_aug = encode_text(augmented_d.text.tolist())\n",
    "encoded_root = encode_text(augmented_d.root_text.tolist())"
   ]
  },
  {
   "cell_type": "code",
   "execution_count": 11,
   "metadata": {},
   "outputs": [
    {
     "ename": "NameError",
     "evalue": "name 'similarity' is not defined",
     "output_type": "error",
     "traceback": [
      "\u001b[0;31m---------------------------------------------------------------------------\u001b[0m",
      "\u001b[0;31mNameError\u001b[0m                                 Traceback (most recent call last)",
      "Cell \u001b[0;32mIn[11], line 11\u001b[0m\n\u001b[1;32m      9\u001b[0m vector2 \u001b[38;5;241m=\u001b[39m encoded_root[\u001b[38;5;241m0\u001b[39m]\n\u001b[1;32m     10\u001b[0m \u001b[38;5;66;03m# similarity = calculate_cosine_similarity(vector1, vector2)\u001b[39;00m\n\u001b[0;32m---> 11\u001b[0m \u001b[38;5;28mprint\u001b[39m(\u001b[38;5;124mf\u001b[39m\u001b[38;5;124m\"\u001b[39m\u001b[38;5;124mCosine Similarity: \u001b[39m\u001b[38;5;132;01m{\u001b[39;00m\u001b[43msimilarity\u001b[49m\u001b[38;5;132;01m}\u001b[39;00m\u001b[38;5;124m\"\u001b[39m)\n",
      "\u001b[0;31mNameError\u001b[0m: name 'similarity' is not defined"
     ]
    }
   ],
   "source": [
    "from torch.nn.functional import cosine_similarity\n",
    "\n",
    "def calculate_cosine_similarity(vector1, vector2):\n",
    "    similarity = cosine_similarity(vector1, vector2)\n",
    "    return similarity.item()\n",
    "\n",
    "# Example usage\n",
    "vector1 = encoded_aug[0]\n",
    "vector2 = encoded_root[0]\n",
    "# similarity = calculate_cosine_similarity(vector1, vector2)\n",
    "print(f\"Cosine Similarity: {similarity}\")"
   ]
  },
  {
   "cell_type": "code",
   "execution_count": null,
   "metadata": {},
   "outputs": [
    {
     "data": {
      "application/vnd.jupyter.widget-view+json": {
       "model_id": "46d7210a2d364286aafbaa99730967db",
       "version_major": 2,
       "version_minor": 0
      },
      "text/plain": [
       "0it [00:00, ?it/s]"
      ]
     },
     "metadata": {},
     "output_type": "display_data"
    }
   ],
   "source": [
    "for idx, row in tqdm(augmented_d.iterrows(), total=len(augmented_d)):\n",
    "    vector1 = encode_text(row['text'])\n",
    "    vector2 = encode_text(row['root_text'])\n",
    "    \n",
    " \n",
    "\n",
    "    similarity = calculate_cosine_similarity(vector1, vector2)\n",
    "    augmented_d.at[idx, 'cosine_similarity'] = round(similarity,2)"
   ]
  },
  {
   "cell_type": "code",
   "execution_count": 12,
   "metadata": {},
   "outputs": [],
   "source": [
    "import pandas as pd \n",
    "df = pd.read_csv('/Users/rt853/UoB-persuasion-detection/data/processed/rapport_augmented_data.csv')"
   ]
  },
  {
   "cell_type": "code",
   "execution_count": 24,
   "metadata": {},
   "outputs": [],
   "source": [
    "from transformers import RobertaTokenizer, RobertaModel\n",
    "\n",
    "df['root_embeddings'] = df['root_text'].apply(lambda x: encode_text(x))"
   ]
  },
  {
   "cell_type": "code",
   "execution_count": 25,
   "metadata": {},
   "outputs": [],
   "source": [
    "\n",
    "df['aug_embeddings'] = df['text'].apply(lambda x: encode_text(x))"
   ]
  },
  {
   "cell_type": "code",
   "execution_count": 80,
   "metadata": {},
   "outputs": [],
   "source": [
    "import numpy as np \n",
    "\n",
    "tsbe_samples = df.sample(30)\n",
    "root_embeddings = tsbe_samples['root_embeddings'].tolist()\n",
    "aug_embeddings = tsbe_samples['aug_embeddings'].tolist()\n",
    "embeddings = np.vstack(root_embeddings + aug_embeddings)"
   ]
  },
  {
   "cell_type": "code",
   "execution_count": 81,
   "metadata": {},
   "outputs": [],
   "source": [
    "from sklearn.metrics.pairwise import cosine_similarity\n",
    "\n",
    "cosine_sim = cosine_similarity(embeddings)"
   ]
  },
  {
   "cell_type": "code",
   "execution_count": 82,
   "metadata": {},
   "outputs": [],
   "source": [
    "from sklearn.manifold import TSNE\n",
    "\n",
    "tsne = TSNE(n_components=2, random_state=42, perplexity=30)\n",
    "tsne_result = tsne.fit_transform(embeddings)"
   ]
  },
  {
   "cell_type": "code",
   "execution_count": 87,
   "metadata": {},
   "outputs": [
    {
     "data": {
      "image/png": "[encoded data removed]",
      "text/plain": [
       "<Figure size 1000x800 with 1 Axes>"
      ]
     },
     "metadata": {},
     "output_type": "display_data"
    }
   ],
   "source": [
    "import matplotlib.pyplot as plt\n",
    "\n",
    "# Create labels for root vs augmented embeddings\n",
    "labels = ['root'] * len(tsbe_samples) + ['augmented'] * len(tsbe_samples)\n",
    "\n",
    "plt.figure(figsize=(10, 8))\n",
    "scatter = plt.scatter(tsne_result[:, 0], tsne_result[:, 1], c=(list(tsbe_samples.index) + list(tsbe_samples.index)), cmap='coolwarm', s=30)\n",
    "\n",
    "plt.title('T-SNE of Root vs Augmented Embeddings', fontsize=16)\n",
    "\n",
    "# Annotate points\n",
    "for i, label in enumerate(labels):\n",
    "    plt.annotate(label, (tsne_result[i, 0], tsne_result[i, 1]), fontsize=10, alpha=0.6)\n",
    "    \n",
    "# Draw lines between corresponding pairs\n",
    "for i in range(len(tsbe_samples)):\n",
    "    plt.plot([tsne_result[i, 0], tsne_result[i + len(tsbe_samples), 0]],\n",
    "             [tsne_result[i, 1], tsne_result[i + len(tsbe_samples), 1]],\n",
    "             color='gray', alpha=0.5, linestyle='--', linewidth=0.7)\n",
    "\n",
    "plt.xlabel('T-SNE Dimension 1', fontsize=14)\n",
    "plt.ylabel('T-SNE Dimension 2', fontsize=14)\n",
    "plt.savefig('./tsne_plot.png')\n",
    "\n",
    "plt.show()"
   ]
  },
  {
   "cell_type": "code",
   "execution_count": null,
   "metadata": {},
   "outputs": [],
   "source": []
  }
 ],
 "metadata": {
  "kernelspec": {
   "display_name": ".venv",
   "language": "python",
   "name": "python3"
  },
  "language_info": {
   "codemirror_mode": {
    "name": "ipython",
    "version": 3
   },
   "file_extension": ".py",
   "mimetype": "text/x-python",
   "name": "python",
   "nbconvert_exporter": "python",
   "pygments_lexer": "ipython3",
   "version": "3.12.1"
  }
 },
 "nbformat": 4,
 "nbformat_minor": 2
}
